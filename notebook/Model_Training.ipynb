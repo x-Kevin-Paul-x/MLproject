{
 "cells": [
  {
   "cell_type": "markdown",
   "metadata": {},
   "source": [
    "### **Importing Libraries**"
   ]
  },
  {
   "cell_type": "code",
   "execution_count": 24,
   "metadata": {},
   "outputs": [],
   "source": [
    "import pandas as pd\n",
    "import numpy as np\n",
    "import matplotlib.pyplot as plt\n",
    "from sklearn.model_selection import train_test_split\n",
    "from sklearn.preprocessing import StandardScaler, OneHotEncoder\n",
    "from sklearn.compose import ColumnTransformer\n",
    "from sklearn.pipeline import Pipeline\n",
    "from sklearn.ensemble import RandomForestRegressor\n",
    "from sklearn.tree import DecisionTreeRegressor\n",
    "from sklearn.svm import SVR\n",
    "from sklearn.neighbors import KNeighborsRegressor\n",
    "from sklearn.ensemble import GradientBoostingRegressor,AdaBoostRegressor,ExtraTreesRegressor,BaggingRegressor,VotingRegressor\n",
    "from sklearn.linear_model import LinearRegression\n",
    "from sklearn.metrics import mean_squared_error, r2_score, mean_absolute_error,accuracy_score"
   ]
  },
  {
   "cell_type": "markdown",
   "metadata": {},
   "source": [
    "### **Load the Dataset**"
   ]
  },
  {
   "cell_type": "code",
   "execution_count": 25,
   "metadata": {},
   "outputs": [
    {
     "name": "stderr",
     "output_type": "stream",
     "text": [
      "<>:1: SyntaxWarning: invalid escape sequence '\\c'\n",
      "<>:1: SyntaxWarning: invalid escape sequence '\\c'\n",
      "C:\\Users\\kevin\\AppData\\Local\\Temp\\ipykernel_2604\\4167863028.py:1: SyntaxWarning: invalid escape sequence '\\c'\n",
      "  df = pd.read_csv(\"data\\car details.csv\")\n"
     ]
    }
   ],
   "source": [
    "df = pd.read_csv(\"data\\car details.csv\")"
   ]
  },
  {
   "cell_type": "markdown",
   "metadata": {},
   "source": [
    "### **Feature Selection and Target**"
   ]
  },
  {
   "cell_type": "code",
   "execution_count": 26,
   "metadata": {},
   "outputs": [],
   "source": [
    "#df = df.drop(columns=['Customer_ID'])"
   ]
  },
  {
   "cell_type": "code",
   "execution_count": 27,
   "metadata": {},
   "outputs": [
    {
     "data": {
      "text/html": [
       "<div>\n",
       "<style scoped>\n",
       "    .dataframe tbody tr th:only-of-type {\n",
       "        vertical-align: middle;\n",
       "    }\n",
       "\n",
       "    .dataframe tbody tr th {\n",
       "        vertical-align: top;\n",
       "    }\n",
       "\n",
       "    .dataframe thead th {\n",
       "        text-align: right;\n",
       "    }\n",
       "</style>\n",
       "<table border=\"1\" class=\"dataframe\">\n",
       "  <thead>\n",
       "    <tr style=\"text-align: right;\">\n",
       "      <th></th>\n",
       "      <th>Make</th>\n",
       "      <th>Model</th>\n",
       "      <th>Price</th>\n",
       "      <th>Year</th>\n",
       "      <th>Kilometer</th>\n",
       "      <th>Fuel Type</th>\n",
       "      <th>Transmission</th>\n",
       "      <th>Location</th>\n",
       "      <th>Color</th>\n",
       "      <th>Owner</th>\n",
       "      <th>Seller Type</th>\n",
       "      <th>Engine</th>\n",
       "      <th>Max Power</th>\n",
       "      <th>Max Torque</th>\n",
       "      <th>Drivetrain</th>\n",
       "      <th>Length</th>\n",
       "      <th>Width</th>\n",
       "      <th>Height</th>\n",
       "      <th>Seating Capacity</th>\n",
       "      <th>Fuel Tank Capacity</th>\n",
       "    </tr>\n",
       "  </thead>\n",
       "  <tbody>\n",
       "    <tr>\n",
       "      <th>0</th>\n",
       "      <td>Honda</td>\n",
       "      <td>Amaze 1.2 VX i-VTEC</td>\n",
       "      <td>505000</td>\n",
       "      <td>2017</td>\n",
       "      <td>87150</td>\n",
       "      <td>Petrol</td>\n",
       "      <td>Manual</td>\n",
       "      <td>Pune</td>\n",
       "      <td>Grey</td>\n",
       "      <td>First</td>\n",
       "      <td>Corporate</td>\n",
       "      <td>1198 cc</td>\n",
       "      <td>87 bhp @ 6000 rpm</td>\n",
       "      <td>109 Nm @ 4500 rpm</td>\n",
       "      <td>FWD</td>\n",
       "      <td>3990.0</td>\n",
       "      <td>1680.0</td>\n",
       "      <td>1505.0</td>\n",
       "      <td>5.0</td>\n",
       "      <td>35.0</td>\n",
       "    </tr>\n",
       "    <tr>\n",
       "      <th>1</th>\n",
       "      <td>Maruti Suzuki</td>\n",
       "      <td>Swift DZire VDI</td>\n",
       "      <td>450000</td>\n",
       "      <td>2014</td>\n",
       "      <td>75000</td>\n",
       "      <td>Diesel</td>\n",
       "      <td>Manual</td>\n",
       "      <td>Ludhiana</td>\n",
       "      <td>White</td>\n",
       "      <td>Second</td>\n",
       "      <td>Individual</td>\n",
       "      <td>1248 cc</td>\n",
       "      <td>74 bhp @ 4000 rpm</td>\n",
       "      <td>190 Nm @ 2000 rpm</td>\n",
       "      <td>FWD</td>\n",
       "      <td>3995.0</td>\n",
       "      <td>1695.0</td>\n",
       "      <td>1555.0</td>\n",
       "      <td>5.0</td>\n",
       "      <td>42.0</td>\n",
       "    </tr>\n",
       "    <tr>\n",
       "      <th>2</th>\n",
       "      <td>Hyundai</td>\n",
       "      <td>i10 Magna 1.2 Kappa2</td>\n",
       "      <td>220000</td>\n",
       "      <td>2011</td>\n",
       "      <td>67000</td>\n",
       "      <td>Petrol</td>\n",
       "      <td>Manual</td>\n",
       "      <td>Lucknow</td>\n",
       "      <td>Maroon</td>\n",
       "      <td>First</td>\n",
       "      <td>Individual</td>\n",
       "      <td>1197 cc</td>\n",
       "      <td>79 bhp @ 6000 rpm</td>\n",
       "      <td>112.7619 Nm @ 4000 rpm</td>\n",
       "      <td>FWD</td>\n",
       "      <td>3585.0</td>\n",
       "      <td>1595.0</td>\n",
       "      <td>1550.0</td>\n",
       "      <td>5.0</td>\n",
       "      <td>35.0</td>\n",
       "    </tr>\n",
       "    <tr>\n",
       "      <th>3</th>\n",
       "      <td>Toyota</td>\n",
       "      <td>Glanza G</td>\n",
       "      <td>799000</td>\n",
       "      <td>2019</td>\n",
       "      <td>37500</td>\n",
       "      <td>Petrol</td>\n",
       "      <td>Manual</td>\n",
       "      <td>Mangalore</td>\n",
       "      <td>Red</td>\n",
       "      <td>First</td>\n",
       "      <td>Individual</td>\n",
       "      <td>1197 cc</td>\n",
       "      <td>82 bhp @ 6000 rpm</td>\n",
       "      <td>113 Nm @ 4200 rpm</td>\n",
       "      <td>FWD</td>\n",
       "      <td>3995.0</td>\n",
       "      <td>1745.0</td>\n",
       "      <td>1510.0</td>\n",
       "      <td>5.0</td>\n",
       "      <td>37.0</td>\n",
       "    </tr>\n",
       "    <tr>\n",
       "      <th>4</th>\n",
       "      <td>Toyota</td>\n",
       "      <td>Innova 2.4 VX 7 STR [2016-2020]</td>\n",
       "      <td>1950000</td>\n",
       "      <td>2018</td>\n",
       "      <td>69000</td>\n",
       "      <td>Diesel</td>\n",
       "      <td>Manual</td>\n",
       "      <td>Mumbai</td>\n",
       "      <td>Grey</td>\n",
       "      <td>First</td>\n",
       "      <td>Individual</td>\n",
       "      <td>2393 cc</td>\n",
       "      <td>148 bhp @ 3400 rpm</td>\n",
       "      <td>343 Nm @ 1400 rpm</td>\n",
       "      <td>RWD</td>\n",
       "      <td>4735.0</td>\n",
       "      <td>1830.0</td>\n",
       "      <td>1795.0</td>\n",
       "      <td>7.0</td>\n",
       "      <td>55.0</td>\n",
       "    </tr>\n",
       "  </tbody>\n",
       "</table>\n",
       "</div>"
      ],
      "text/plain": [
       "            Make                            Model    Price  Year  Kilometer  \\\n",
       "0          Honda              Amaze 1.2 VX i-VTEC   505000  2017      87150   \n",
       "1  Maruti Suzuki                  Swift DZire VDI   450000  2014      75000   \n",
       "2        Hyundai             i10 Magna 1.2 Kappa2   220000  2011      67000   \n",
       "3         Toyota                         Glanza G   799000  2019      37500   \n",
       "4         Toyota  Innova 2.4 VX 7 STR [2016-2020]  1950000  2018      69000   \n",
       "\n",
       "  Fuel Type Transmission   Location   Color   Owner Seller Type   Engine  \\\n",
       "0    Petrol       Manual       Pune    Grey   First   Corporate  1198 cc   \n",
       "1    Diesel       Manual   Ludhiana   White  Second  Individual  1248 cc   \n",
       "2    Petrol       Manual    Lucknow  Maroon   First  Individual  1197 cc   \n",
       "3    Petrol       Manual  Mangalore     Red   First  Individual  1197 cc   \n",
       "4    Diesel       Manual     Mumbai    Grey   First  Individual  2393 cc   \n",
       "\n",
       "            Max Power              Max Torque Drivetrain  Length   Width  \\\n",
       "0   87 bhp @ 6000 rpm       109 Nm @ 4500 rpm        FWD  3990.0  1680.0   \n",
       "1   74 bhp @ 4000 rpm       190 Nm @ 2000 rpm        FWD  3995.0  1695.0   \n",
       "2   79 bhp @ 6000 rpm  112.7619 Nm @ 4000 rpm        FWD  3585.0  1595.0   \n",
       "3   82 bhp @ 6000 rpm       113 Nm @ 4200 rpm        FWD  3995.0  1745.0   \n",
       "4  148 bhp @ 3400 rpm       343 Nm @ 1400 rpm        RWD  4735.0  1830.0   \n",
       "\n",
       "   Height  Seating Capacity  Fuel Tank Capacity  \n",
       "0  1505.0               5.0                35.0  \n",
       "1  1555.0               5.0                42.0  \n",
       "2  1550.0               5.0                35.0  \n",
       "3  1510.0               5.0                37.0  \n",
       "4  1795.0               7.0                55.0  "
      ]
     },
     "execution_count": 27,
     "metadata": {},
     "output_type": "execute_result"
    }
   ],
   "source": [
    "df.head()"
   ]
  },
  {
   "cell_type": "markdown",
   "metadata": {},
   "source": [
    "### DEALING WITH NANs"
   ]
  },
  {
   "cell_type": "code",
   "execution_count": 28,
   "metadata": {},
   "outputs": [
    {
     "name": "stdout",
     "output_type": "stream",
     "text": [
      "Percentage of Missing Values:\n",
      " Make                  0.000000\n",
      "Model                 0.000000\n",
      "Price                 0.000000\n",
      "Year                  0.000000\n",
      "Kilometer             0.000000\n",
      "Fuel Type             0.000000\n",
      "Transmission          0.000000\n",
      "Location              0.000000\n",
      "Color                 0.000000\n",
      "Owner                 0.000000\n",
      "Seller Type           0.000000\n",
      "Engine                3.885381\n",
      "Max Power             3.885381\n",
      "Max Torque            3.885381\n",
      "Drivetrain            6.605148\n",
      "Length                3.108305\n",
      "Width                 3.108305\n",
      "Height                3.108305\n",
      "Seating Capacity      3.108305\n",
      "Fuel Tank Capacity    5.488101\n",
      "dtype: float64\n"
     ]
    }
   ],
   "source": [
    "missing_percentage = (df.isnull().sum() / len(df)) * 100\n",
    "print(\"Percentage of Missing Values:\\n\", missing_percentage)"
   ]
  },
  {
   "cell_type": "markdown",
   "metadata": {},
   "source": [
    "- #### **Numerical Columns:**\n",
    "    - Use mean, median, or mode to fill missing values.\n",
    "    - For skewed data, the median is a better choice."
   ]
  },
  {
   "cell_type": "code",
   "execution_count": 29,
   "metadata": {},
   "outputs": [],
   "source": [
    "numerical_cols = df.select_dtypes(include=['int64', 'float64']).columns\n",
    "df[numerical_cols] = df[numerical_cols].fillna(df[numerical_cols].median())"
   ]
  },
  {
   "cell_type": "markdown",
   "metadata": {},
   "source": [
    "- #### **Categorical Columns:**\n",
    "    - Replace missing values with the mode or a placeholder value like 'Unknown'."
   ]
  },
  {
   "cell_type": "code",
   "execution_count": 30,
   "metadata": {},
   "outputs": [],
   "source": [
    "categorical_cols = df.select_dtypes(include=['object']).columns\n",
    "df[categorical_cols] = df[categorical_cols].fillna(df[categorical_cols].mode().iloc[0])"
   ]
  },
  {
   "cell_type": "code",
   "execution_count": 31,
   "metadata": {},
   "outputs": [
    {
     "name": "stdout",
     "output_type": "stream",
     "text": [
      "Percentage of Missing Values:\n",
      " Make                  0.0\n",
      "Model                 0.0\n",
      "Price                 0.0\n",
      "Year                  0.0\n",
      "Kilometer             0.0\n",
      "Fuel Type             0.0\n",
      "Transmission          0.0\n",
      "Location              0.0\n",
      "Color                 0.0\n",
      "Owner                 0.0\n",
      "Seller Type           0.0\n",
      "Engine                0.0\n",
      "Max Power             0.0\n",
      "Max Torque            0.0\n",
      "Drivetrain            0.0\n",
      "Length                0.0\n",
      "Width                 0.0\n",
      "Height                0.0\n",
      "Seating Capacity      0.0\n",
      "Fuel Tank Capacity    0.0\n",
      "dtype: float64\n"
     ]
    }
   ],
   "source": [
    "missing_percentage = (df.isnull().sum() / len(df)) * 100\n",
    "print(\"Percentage of Missing Values:\\n\", missing_percentage)"
   ]
  },
  {
   "cell_type": "code",
   "execution_count": 32,
   "metadata": {},
   "outputs": [],
   "source": [
    "X = df.drop(columns=['Price'])  \n",
    "y = df['Price']  "
   ]
  },
  {
   "cell_type": "code",
   "execution_count": 33,
   "metadata": {},
   "outputs": [
    {
     "data": {
      "text/html": [
       "<div>\n",
       "<style scoped>\n",
       "    .dataframe tbody tr th:only-of-type {\n",
       "        vertical-align: middle;\n",
       "    }\n",
       "\n",
       "    .dataframe tbody tr th {\n",
       "        vertical-align: top;\n",
       "    }\n",
       "\n",
       "    .dataframe thead th {\n",
       "        text-align: right;\n",
       "    }\n",
       "</style>\n",
       "<table border=\"1\" class=\"dataframe\">\n",
       "  <thead>\n",
       "    <tr style=\"text-align: right;\">\n",
       "      <th></th>\n",
       "      <th>Make</th>\n",
       "      <th>Model</th>\n",
       "      <th>Year</th>\n",
       "      <th>Kilometer</th>\n",
       "      <th>Fuel Type</th>\n",
       "      <th>Transmission</th>\n",
       "      <th>Location</th>\n",
       "      <th>Color</th>\n",
       "      <th>Owner</th>\n",
       "      <th>Seller Type</th>\n",
       "      <th>Engine</th>\n",
       "      <th>Max Power</th>\n",
       "      <th>Max Torque</th>\n",
       "      <th>Drivetrain</th>\n",
       "      <th>Length</th>\n",
       "      <th>Width</th>\n",
       "      <th>Height</th>\n",
       "      <th>Seating Capacity</th>\n",
       "      <th>Fuel Tank Capacity</th>\n",
       "    </tr>\n",
       "  </thead>\n",
       "  <tbody>\n",
       "    <tr>\n",
       "      <th>0</th>\n",
       "      <td>Honda</td>\n",
       "      <td>Amaze 1.2 VX i-VTEC</td>\n",
       "      <td>2017</td>\n",
       "      <td>87150</td>\n",
       "      <td>Petrol</td>\n",
       "      <td>Manual</td>\n",
       "      <td>Pune</td>\n",
       "      <td>Grey</td>\n",
       "      <td>First</td>\n",
       "      <td>Corporate</td>\n",
       "      <td>1198 cc</td>\n",
       "      <td>87 bhp @ 6000 rpm</td>\n",
       "      <td>109 Nm @ 4500 rpm</td>\n",
       "      <td>FWD</td>\n",
       "      <td>3990.0</td>\n",
       "      <td>1680.0</td>\n",
       "      <td>1505.0</td>\n",
       "      <td>5.0</td>\n",
       "      <td>35.0</td>\n",
       "    </tr>\n",
       "    <tr>\n",
       "      <th>1</th>\n",
       "      <td>Maruti Suzuki</td>\n",
       "      <td>Swift DZire VDI</td>\n",
       "      <td>2014</td>\n",
       "      <td>75000</td>\n",
       "      <td>Diesel</td>\n",
       "      <td>Manual</td>\n",
       "      <td>Ludhiana</td>\n",
       "      <td>White</td>\n",
       "      <td>Second</td>\n",
       "      <td>Individual</td>\n",
       "      <td>1248 cc</td>\n",
       "      <td>74 bhp @ 4000 rpm</td>\n",
       "      <td>190 Nm @ 2000 rpm</td>\n",
       "      <td>FWD</td>\n",
       "      <td>3995.0</td>\n",
       "      <td>1695.0</td>\n",
       "      <td>1555.0</td>\n",
       "      <td>5.0</td>\n",
       "      <td>42.0</td>\n",
       "    </tr>\n",
       "    <tr>\n",
       "      <th>2</th>\n",
       "      <td>Hyundai</td>\n",
       "      <td>i10 Magna 1.2 Kappa2</td>\n",
       "      <td>2011</td>\n",
       "      <td>67000</td>\n",
       "      <td>Petrol</td>\n",
       "      <td>Manual</td>\n",
       "      <td>Lucknow</td>\n",
       "      <td>Maroon</td>\n",
       "      <td>First</td>\n",
       "      <td>Individual</td>\n",
       "      <td>1197 cc</td>\n",
       "      <td>79 bhp @ 6000 rpm</td>\n",
       "      <td>112.7619 Nm @ 4000 rpm</td>\n",
       "      <td>FWD</td>\n",
       "      <td>3585.0</td>\n",
       "      <td>1595.0</td>\n",
       "      <td>1550.0</td>\n",
       "      <td>5.0</td>\n",
       "      <td>35.0</td>\n",
       "    </tr>\n",
       "    <tr>\n",
       "      <th>3</th>\n",
       "      <td>Toyota</td>\n",
       "      <td>Glanza G</td>\n",
       "      <td>2019</td>\n",
       "      <td>37500</td>\n",
       "      <td>Petrol</td>\n",
       "      <td>Manual</td>\n",
       "      <td>Mangalore</td>\n",
       "      <td>Red</td>\n",
       "      <td>First</td>\n",
       "      <td>Individual</td>\n",
       "      <td>1197 cc</td>\n",
       "      <td>82 bhp @ 6000 rpm</td>\n",
       "      <td>113 Nm @ 4200 rpm</td>\n",
       "      <td>FWD</td>\n",
       "      <td>3995.0</td>\n",
       "      <td>1745.0</td>\n",
       "      <td>1510.0</td>\n",
       "      <td>5.0</td>\n",
       "      <td>37.0</td>\n",
       "    </tr>\n",
       "    <tr>\n",
       "      <th>4</th>\n",
       "      <td>Toyota</td>\n",
       "      <td>Innova 2.4 VX 7 STR [2016-2020]</td>\n",
       "      <td>2018</td>\n",
       "      <td>69000</td>\n",
       "      <td>Diesel</td>\n",
       "      <td>Manual</td>\n",
       "      <td>Mumbai</td>\n",
       "      <td>Grey</td>\n",
       "      <td>First</td>\n",
       "      <td>Individual</td>\n",
       "      <td>2393 cc</td>\n",
       "      <td>148 bhp @ 3400 rpm</td>\n",
       "      <td>343 Nm @ 1400 rpm</td>\n",
       "      <td>RWD</td>\n",
       "      <td>4735.0</td>\n",
       "      <td>1830.0</td>\n",
       "      <td>1795.0</td>\n",
       "      <td>7.0</td>\n",
       "      <td>55.0</td>\n",
       "    </tr>\n",
       "    <tr>\n",
       "      <th>...</th>\n",
       "      <td>...</td>\n",
       "      <td>...</td>\n",
       "      <td>...</td>\n",
       "      <td>...</td>\n",
       "      <td>...</td>\n",
       "      <td>...</td>\n",
       "      <td>...</td>\n",
       "      <td>...</td>\n",
       "      <td>...</td>\n",
       "      <td>...</td>\n",
       "      <td>...</td>\n",
       "      <td>...</td>\n",
       "      <td>...</td>\n",
       "      <td>...</td>\n",
       "      <td>...</td>\n",
       "      <td>...</td>\n",
       "      <td>...</td>\n",
       "      <td>...</td>\n",
       "      <td>...</td>\n",
       "    </tr>\n",
       "    <tr>\n",
       "      <th>2054</th>\n",
       "      <td>Mahindra</td>\n",
       "      <td>XUV500 W8 [2015-2017]</td>\n",
       "      <td>2016</td>\n",
       "      <td>90300</td>\n",
       "      <td>Diesel</td>\n",
       "      <td>Manual</td>\n",
       "      <td>Surat</td>\n",
       "      <td>White</td>\n",
       "      <td>First</td>\n",
       "      <td>Individual</td>\n",
       "      <td>2179 cc</td>\n",
       "      <td>138 bhp @ 3750 rpm</td>\n",
       "      <td>330 Nm @ 1600 rpm</td>\n",
       "      <td>FWD</td>\n",
       "      <td>4585.0</td>\n",
       "      <td>1890.0</td>\n",
       "      <td>1785.0</td>\n",
       "      <td>7.0</td>\n",
       "      <td>70.0</td>\n",
       "    </tr>\n",
       "    <tr>\n",
       "      <th>2055</th>\n",
       "      <td>Hyundai</td>\n",
       "      <td>Eon D-Lite +</td>\n",
       "      <td>2014</td>\n",
       "      <td>83000</td>\n",
       "      <td>Petrol</td>\n",
       "      <td>Manual</td>\n",
       "      <td>Ahmedabad</td>\n",
       "      <td>White</td>\n",
       "      <td>Second</td>\n",
       "      <td>Individual</td>\n",
       "      <td>814 cc</td>\n",
       "      <td>55 bhp @ 5500 rpm</td>\n",
       "      <td>75 Nm @ 4000 rpm</td>\n",
       "      <td>FWD</td>\n",
       "      <td>3495.0</td>\n",
       "      <td>1550.0</td>\n",
       "      <td>1500.0</td>\n",
       "      <td>5.0</td>\n",
       "      <td>32.0</td>\n",
       "    </tr>\n",
       "    <tr>\n",
       "      <th>2056</th>\n",
       "      <td>Ford</td>\n",
       "      <td>Figo Duratec Petrol ZXI 1.2</td>\n",
       "      <td>2013</td>\n",
       "      <td>73000</td>\n",
       "      <td>Petrol</td>\n",
       "      <td>Manual</td>\n",
       "      <td>Thane</td>\n",
       "      <td>Silver</td>\n",
       "      <td>First</td>\n",
       "      <td>Individual</td>\n",
       "      <td>1196 cc</td>\n",
       "      <td>70 bhp @ 6250 rpm</td>\n",
       "      <td>102 Nm @ 4000 rpm</td>\n",
       "      <td>FWD</td>\n",
       "      <td>3795.0</td>\n",
       "      <td>1680.0</td>\n",
       "      <td>1427.0</td>\n",
       "      <td>5.0</td>\n",
       "      <td>45.0</td>\n",
       "    </tr>\n",
       "    <tr>\n",
       "      <th>2057</th>\n",
       "      <td>BMW</td>\n",
       "      <td>5-Series 520d Luxury Line [2017-2019]</td>\n",
       "      <td>2018</td>\n",
       "      <td>60474</td>\n",
       "      <td>Diesel</td>\n",
       "      <td>Automatic</td>\n",
       "      <td>Coimbatore</td>\n",
       "      <td>White</td>\n",
       "      <td>First</td>\n",
       "      <td>Individual</td>\n",
       "      <td>1995 cc</td>\n",
       "      <td>188 bhp @ 4000 rpm</td>\n",
       "      <td>400 Nm @ 1750 rpm</td>\n",
       "      <td>RWD</td>\n",
       "      <td>4936.0</td>\n",
       "      <td>1868.0</td>\n",
       "      <td>1479.0</td>\n",
       "      <td>5.0</td>\n",
       "      <td>65.0</td>\n",
       "    </tr>\n",
       "    <tr>\n",
       "      <th>2058</th>\n",
       "      <td>Mahindra</td>\n",
       "      <td>Bolero Power Plus ZLX [2016-2019]</td>\n",
       "      <td>2017</td>\n",
       "      <td>72000</td>\n",
       "      <td>Diesel</td>\n",
       "      <td>Manual</td>\n",
       "      <td>Guwahati</td>\n",
       "      <td>White</td>\n",
       "      <td>First</td>\n",
       "      <td>Individual</td>\n",
       "      <td>1493 cc</td>\n",
       "      <td>70 bhp @ 3600 rpm</td>\n",
       "      <td>195 Nm @ 1400 rpm</td>\n",
       "      <td>RWD</td>\n",
       "      <td>3995.0</td>\n",
       "      <td>1745.0</td>\n",
       "      <td>1880.0</td>\n",
       "      <td>7.0</td>\n",
       "      <td>50.0</td>\n",
       "    </tr>\n",
       "  </tbody>\n",
       "</table>\n",
       "<p>2059 rows × 19 columns</p>\n",
       "</div>"
      ],
      "text/plain": [
       "               Make                                  Model  Year  Kilometer  \\\n",
       "0             Honda                    Amaze 1.2 VX i-VTEC  2017      87150   \n",
       "1     Maruti Suzuki                        Swift DZire VDI  2014      75000   \n",
       "2           Hyundai                   i10 Magna 1.2 Kappa2  2011      67000   \n",
       "3            Toyota                               Glanza G  2019      37500   \n",
       "4            Toyota        Innova 2.4 VX 7 STR [2016-2020]  2018      69000   \n",
       "...             ...                                    ...   ...        ...   \n",
       "2054       Mahindra                  XUV500 W8 [2015-2017]  2016      90300   \n",
       "2055        Hyundai                           Eon D-Lite +  2014      83000   \n",
       "2056           Ford            Figo Duratec Petrol ZXI 1.2  2013      73000   \n",
       "2057            BMW  5-Series 520d Luxury Line [2017-2019]  2018      60474   \n",
       "2058       Mahindra      Bolero Power Plus ZLX [2016-2019]  2017      72000   \n",
       "\n",
       "     Fuel Type Transmission    Location   Color   Owner Seller Type   Engine  \\\n",
       "0       Petrol       Manual        Pune    Grey   First   Corporate  1198 cc   \n",
       "1       Diesel       Manual    Ludhiana   White  Second  Individual  1248 cc   \n",
       "2       Petrol       Manual     Lucknow  Maroon   First  Individual  1197 cc   \n",
       "3       Petrol       Manual   Mangalore     Red   First  Individual  1197 cc   \n",
       "4       Diesel       Manual      Mumbai    Grey   First  Individual  2393 cc   \n",
       "...        ...          ...         ...     ...     ...         ...      ...   \n",
       "2054    Diesel       Manual       Surat   White   First  Individual  2179 cc   \n",
       "2055    Petrol       Manual   Ahmedabad   White  Second  Individual   814 cc   \n",
       "2056    Petrol       Manual       Thane  Silver   First  Individual  1196 cc   \n",
       "2057    Diesel    Automatic  Coimbatore   White   First  Individual  1995 cc   \n",
       "2058    Diesel       Manual    Guwahati   White   First  Individual  1493 cc   \n",
       "\n",
       "               Max Power              Max Torque Drivetrain  Length   Width  \\\n",
       "0      87 bhp @ 6000 rpm       109 Nm @ 4500 rpm        FWD  3990.0  1680.0   \n",
       "1      74 bhp @ 4000 rpm       190 Nm @ 2000 rpm        FWD  3995.0  1695.0   \n",
       "2      79 bhp @ 6000 rpm  112.7619 Nm @ 4000 rpm        FWD  3585.0  1595.0   \n",
       "3      82 bhp @ 6000 rpm       113 Nm @ 4200 rpm        FWD  3995.0  1745.0   \n",
       "4     148 bhp @ 3400 rpm       343 Nm @ 1400 rpm        RWD  4735.0  1830.0   \n",
       "...                  ...                     ...        ...     ...     ...   \n",
       "2054  138 bhp @ 3750 rpm       330 Nm @ 1600 rpm        FWD  4585.0  1890.0   \n",
       "2055   55 bhp @ 5500 rpm        75 Nm @ 4000 rpm        FWD  3495.0  1550.0   \n",
       "2056   70 bhp @ 6250 rpm       102 Nm @ 4000 rpm        FWD  3795.0  1680.0   \n",
       "2057  188 bhp @ 4000 rpm       400 Nm @ 1750 rpm        RWD  4936.0  1868.0   \n",
       "2058   70 bhp @ 3600 rpm       195 Nm @ 1400 rpm        RWD  3995.0  1745.0   \n",
       "\n",
       "      Height  Seating Capacity  Fuel Tank Capacity  \n",
       "0     1505.0               5.0                35.0  \n",
       "1     1555.0               5.0                42.0  \n",
       "2     1550.0               5.0                35.0  \n",
       "3     1510.0               5.0                37.0  \n",
       "4     1795.0               7.0                55.0  \n",
       "...      ...               ...                 ...  \n",
       "2054  1785.0               7.0                70.0  \n",
       "2055  1500.0               5.0                32.0  \n",
       "2056  1427.0               5.0                45.0  \n",
       "2057  1479.0               5.0                65.0  \n",
       "2058  1880.0               7.0                50.0  \n",
       "\n",
       "[2059 rows x 19 columns]"
      ]
     },
     "execution_count": 33,
     "metadata": {},
     "output_type": "execute_result"
    }
   ],
   "source": [
    "X"
   ]
  },
  {
   "cell_type": "code",
   "execution_count": 34,
   "metadata": {},
   "outputs": [
    {
     "data": {
      "text/plain": [
       "0        505000\n",
       "1        450000\n",
       "2        220000\n",
       "3        799000\n",
       "4       1950000\n",
       "         ...   \n",
       "2054     850000\n",
       "2055     275000\n",
       "2056     240000\n",
       "2057    4290000\n",
       "2058     670000\n",
       "Name: Price, Length: 2059, dtype: int64"
      ]
     },
     "execution_count": 34,
     "metadata": {},
     "output_type": "execute_result"
    }
   ],
   "source": [
    "y"
   ]
  },
  {
   "cell_type": "code",
   "execution_count": 35,
   "metadata": {},
   "outputs": [],
   "source": [
    "y = y.astype('category').cat.codes"
   ]
  },
  {
   "cell_type": "code",
   "execution_count": 36,
   "metadata": {},
   "outputs": [],
   "source": [
    "num_features = X.select_dtypes(exclude=['object']).columns\n",
    "cat_features = X.select_dtypes(include=['object']).columns"
   ]
  },
  {
   "cell_type": "code",
   "execution_count": 37,
   "metadata": {},
   "outputs": [
    {
     "data": {
      "text/plain": [
       "Index(['Year', 'Kilometer', 'Length', 'Width', 'Height', 'Seating Capacity',\n",
       "       'Fuel Tank Capacity'],\n",
       "      dtype='object')"
      ]
     },
     "execution_count": 37,
     "metadata": {},
     "output_type": "execute_result"
    }
   ],
   "source": [
    "num_features"
   ]
  },
  {
   "cell_type": "code",
   "execution_count": 38,
   "metadata": {},
   "outputs": [
    {
     "data": {
      "text/plain": [
       "(12,)"
      ]
     },
     "execution_count": 38,
     "metadata": {},
     "output_type": "execute_result"
    }
   ],
   "source": [
    "cat_features.shape"
   ]
  },
  {
   "cell_type": "code",
   "execution_count": 39,
   "metadata": {},
   "outputs": [],
   "source": [
    "numeric_transformer = StandardScaler()\n",
    "categorical_transformer = OneHotEncoder()"
   ]
  },
  {
   "cell_type": "code",
   "execution_count": 40,
   "metadata": {},
   "outputs": [],
   "source": [
    "preprocessor = ColumnTransformer(\n",
    "    transformers=[\n",
    "        ('StandardScaler', numeric_transformer, num_features),\n",
    "        ('OneHotEncoder', categorical_transformer, cat_features)\n",
    "    ]\n",
    ")"
   ]
  },
  {
   "cell_type": "code",
   "execution_count": 41,
   "metadata": {},
   "outputs": [],
   "source": [
    "X = preprocessor.fit_transform(X)"
   ]
  },
  {
   "cell_type": "code",
   "execution_count": 42,
   "metadata": {},
   "outputs": [
    {
     "data": {
      "text/plain": [
       "(2059, 1940)"
      ]
     },
     "execution_count": 42,
     "metadata": {},
     "output_type": "execute_result"
    }
   ],
   "source": [
    "X.shape"
   ]
  },
  {
   "cell_type": "markdown",
   "metadata": {},
   "source": [
    "### **TRAIN TEST SPLIT**"
   ]
  },
  {
   "cell_type": "code",
   "execution_count": 43,
   "metadata": {},
   "outputs": [
    {
     "data": {
      "text/plain": [
       "((1647, 1940), (412, 1940), (1647,), (412,))"
      ]
     },
     "execution_count": 43,
     "metadata": {},
     "output_type": "execute_result"
    }
   ],
   "source": [
    "X_train, X_test, y_train, y_test = train_test_split(X, y, test_size=0.2, random_state=42)\n",
    "X_train.shape, X_test.shape, y_train.shape, y_test.shape"
   ]
  },
  {
   "cell_type": "markdown",
   "metadata": {},
   "source": [
    "### **MODEL EVALUATION**"
   ]
  },
  {
   "cell_type": "code",
   "execution_count": 44,
   "metadata": {},
   "outputs": [],
   "source": [
    "def Evaluate_Model(y_test, y_pred):\n",
    "    mae = mean_absolute_error(y_test, y_pred)\n",
    "    mse = mean_squared_error(y_test, y_pred)\n",
    "    rmse = np.sqrt(mse)\n",
    "    r2 = r2_score(y_test, y_pred)\n",
    "    return mae, mse, rmse, r2\n",
    "    "
   ]
  },
  {
   "cell_type": "code",
   "execution_count": 45,
   "metadata": {},
   "outputs": [
    {
     "name": "stdout",
     "output_type": "stream",
     "text": [
      "Linear Regression - \n",
      "MAE: 25.505725005864957, \n",
      "MSE: 1392.5239756170522, \n",
      "RMSE: 37.316537562011995, \n",
      "R2: 0.9478959735481046\n",
      "Random Forest - \n",
      "MAE: 23.223419902912624, \n",
      "MSE: 1123.4040888476268, \n",
      "RMSE: 33.51722078048278, \n",
      "R2: 0.9579656240133698\n",
      "Decision Tree - \n",
      "MAE: 32.71601941747573, \n",
      "MSE: 2429.3361650485435, \n",
      "RMSE: 49.288296430781045, \n",
      "R2: 0.909101603979101\n",
      "Support Vector Machine - \n",
      "MAE: 83.71027426041526, \n",
      "MSE: 11666.146484760677, \n",
      "RMSE: 108.00993697230211, \n",
      "R2: 0.5634881584252032\n",
      "K-Nearest Neighbors - \n",
      "MAE: 30.902427184466017, \n",
      "MSE: 1725.660291262136, \n",
      "RMSE: 41.5410675267516, \n",
      "R2: 0.9354310223469829\n",
      "Gradient Boosting - \n",
      "MAE: 26.67200832167853, \n",
      "MSE: 1377.5515951182829, \n",
      "RMSE: 37.115382190114694, \n",
      "R2: 0.9484561946453464\n",
      "AdaBoost - \n",
      "MAE: 47.02859268831503, \n",
      "MSE: 3408.837998441344, \n",
      "RMSE: 58.38525497453397, \n",
      "R2: 0.8724516142263834\n",
      "Extra Trees - \n",
      "MAE: 21.23468446601942, \n",
      "MSE: 907.9422532766989, \n",
      "RMSE: 30.132080135242887, \n",
      "R2: 0.9660275528393973\n",
      "Bagging - \n",
      "MAE: 24.0979571197411, \n",
      "MSE: 1226.1819176442825, \n",
      "RMSE: 35.016880467058776, \n",
      "R2: 0.9541199891775916\n",
      "Voting - \n",
      "MAE: 19.893670001204722, \n",
      "MSE: 824.6003293938411, \n",
      "RMSE: 28.71585501763514, \n",
      "R2: 0.9691459550231875\n"
     ]
    }
   ],
   "source": [
    "models = {\n",
    "    'Linear Regression': LinearRegression(),\n",
    "    'Random Forest': RandomForestRegressor(),\n",
    "    'Decision Tree': DecisionTreeRegressor(),\n",
    "    'Support Vector Machine': SVR(),\n",
    "    'K-Nearest Neighbors': KNeighborsRegressor(),\n",
    "    'Gradient Boosting': GradientBoostingRegressor(),\n",
    "    'AdaBoost': AdaBoostRegressor(),\n",
    "    'Extra Trees': ExtraTreesRegressor(),\n",
    "    'Bagging': BaggingRegressor(),\n",
    "    'Voting': VotingRegressor(estimators=[('lr', LinearRegression()), ('rf', RandomForestRegressor())])\n",
    "}\n",
    "\n",
    "model_List = []\n",
    "mae_List = []\n",
    "mse_List = []\n",
    "rmse_List = []\n",
    "r2_List = []\n",
    "\n",
    "for name, model in models.items():\n",
    "    model.fit(X_train, y_train)\n",
    "    y_pred = model.predict(X_test)\n",
    "    mae, mse, rmse, r2 = Evaluate_Model(y_test, y_pred)\n",
    "    model_List.append(name)\n",
    "    mae_List.append(mae)\n",
    "    mse_List.append(mse)\n",
    "    rmse_List.append(rmse)\n",
    "    r2_List.append(r2)\n",
    "    print(f\"{name} - \\nMAE: {mae}, \\nMSE: {mse}, \\nRMSE: {rmse}, \\nR2: {r2}\")"
   ]
  },
  {
   "cell_type": "markdown",
   "metadata": {},
   "source": [
    "## **RESULTS**"
   ]
  },
  {
   "cell_type": "code",
   "execution_count": 46,
   "metadata": {},
   "outputs": [
    {
     "name": "stdout",
     "output_type": "stream",
     "text": [
      "10 10 10 10 10\n"
     ]
    }
   ],
   "source": [
    "print(len(model_List), len(mae_List), len(mse_List), len(rmse_List), len(r2_List))"
   ]
  },
  {
   "cell_type": "code",
   "execution_count": 47,
   "metadata": {},
   "outputs": [],
   "source": [
    "results = pd.DataFrame({'Model': model_List, 'MAE': mae_List , 'MSE': mse_List, 'RMSE': rmse_List, 'R2': r2_List})\n"
   ]
  },
  {
   "cell_type": "code",
   "execution_count": 48,
   "metadata": {},
   "outputs": [
    {
     "data": {
      "text/html": [
       "<div>\n",
       "<style scoped>\n",
       "    .dataframe tbody tr th:only-of-type {\n",
       "        vertical-align: middle;\n",
       "    }\n",
       "\n",
       "    .dataframe tbody tr th {\n",
       "        vertical-align: top;\n",
       "    }\n",
       "\n",
       "    .dataframe thead th {\n",
       "        text-align: right;\n",
       "    }\n",
       "</style>\n",
       "<table border=\"1\" class=\"dataframe\">\n",
       "  <thead>\n",
       "    <tr style=\"text-align: right;\">\n",
       "      <th></th>\n",
       "      <th>Model</th>\n",
       "      <th>MAE</th>\n",
       "      <th>MSE</th>\n",
       "      <th>RMSE</th>\n",
       "      <th>R2</th>\n",
       "    </tr>\n",
       "  </thead>\n",
       "  <tbody>\n",
       "    <tr>\n",
       "      <th>9</th>\n",
       "      <td>Voting</td>\n",
       "      <td>19.893670</td>\n",
       "      <td>824.600329</td>\n",
       "      <td>28.715855</td>\n",
       "      <td>0.969146</td>\n",
       "    </tr>\n",
       "    <tr>\n",
       "      <th>7</th>\n",
       "      <td>Extra Trees</td>\n",
       "      <td>21.234684</td>\n",
       "      <td>907.942253</td>\n",
       "      <td>30.132080</td>\n",
       "      <td>0.966028</td>\n",
       "    </tr>\n",
       "    <tr>\n",
       "      <th>1</th>\n",
       "      <td>Random Forest</td>\n",
       "      <td>23.223420</td>\n",
       "      <td>1123.404089</td>\n",
       "      <td>33.517221</td>\n",
       "      <td>0.957966</td>\n",
       "    </tr>\n",
       "    <tr>\n",
       "      <th>8</th>\n",
       "      <td>Bagging</td>\n",
       "      <td>24.097957</td>\n",
       "      <td>1226.181918</td>\n",
       "      <td>35.016880</td>\n",
       "      <td>0.954120</td>\n",
       "    </tr>\n",
       "    <tr>\n",
       "      <th>5</th>\n",
       "      <td>Gradient Boosting</td>\n",
       "      <td>26.672008</td>\n",
       "      <td>1377.551595</td>\n",
       "      <td>37.115382</td>\n",
       "      <td>0.948456</td>\n",
       "    </tr>\n",
       "    <tr>\n",
       "      <th>0</th>\n",
       "      <td>Linear Regression</td>\n",
       "      <td>25.505725</td>\n",
       "      <td>1392.523976</td>\n",
       "      <td>37.316538</td>\n",
       "      <td>0.947896</td>\n",
       "    </tr>\n",
       "    <tr>\n",
       "      <th>4</th>\n",
       "      <td>K-Nearest Neighbors</td>\n",
       "      <td>30.902427</td>\n",
       "      <td>1725.660291</td>\n",
       "      <td>41.541068</td>\n",
       "      <td>0.935431</td>\n",
       "    </tr>\n",
       "    <tr>\n",
       "      <th>2</th>\n",
       "      <td>Decision Tree</td>\n",
       "      <td>32.716019</td>\n",
       "      <td>2429.336165</td>\n",
       "      <td>49.288296</td>\n",
       "      <td>0.909102</td>\n",
       "    </tr>\n",
       "    <tr>\n",
       "      <th>6</th>\n",
       "      <td>AdaBoost</td>\n",
       "      <td>47.028593</td>\n",
       "      <td>3408.837998</td>\n",
       "      <td>58.385255</td>\n",
       "      <td>0.872452</td>\n",
       "    </tr>\n",
       "    <tr>\n",
       "      <th>3</th>\n",
       "      <td>Support Vector Machine</td>\n",
       "      <td>83.710274</td>\n",
       "      <td>11666.146485</td>\n",
       "      <td>108.009937</td>\n",
       "      <td>0.563488</td>\n",
       "    </tr>\n",
       "  </tbody>\n",
       "</table>\n",
       "</div>"
      ],
      "text/plain": [
       "                    Model        MAE           MSE        RMSE        R2\n",
       "9                  Voting  19.893670    824.600329   28.715855  0.969146\n",
       "7             Extra Trees  21.234684    907.942253   30.132080  0.966028\n",
       "1           Random Forest  23.223420   1123.404089   33.517221  0.957966\n",
       "8                 Bagging  24.097957   1226.181918   35.016880  0.954120\n",
       "5       Gradient Boosting  26.672008   1377.551595   37.115382  0.948456\n",
       "0       Linear Regression  25.505725   1392.523976   37.316538  0.947896\n",
       "4     K-Nearest Neighbors  30.902427   1725.660291   41.541068  0.935431\n",
       "2           Decision Tree  32.716019   2429.336165   49.288296  0.909102\n",
       "6                AdaBoost  47.028593   3408.837998   58.385255  0.872452\n",
       "3  Support Vector Machine  83.710274  11666.146485  108.009937  0.563488"
      ]
     },
     "execution_count": 48,
     "metadata": {},
     "output_type": "execute_result"
    }
   ],
   "source": [
    "results.sort_values(by='R2', ascending=False)"
   ]
  },
  {
   "cell_type": "markdown",
   "metadata": {},
   "source": [
    "## **Using AdaBoost Model**"
   ]
  },
  {
   "cell_type": "code",
   "execution_count": 53,
   "metadata": {},
   "outputs": [
    {
     "name": "stdout",
     "output_type": "stream",
     "text": [
      "AdaBoost - \n",
      "MAE: 19.893858099818736, \n",
      "MSE: 825.8289749817767, \n",
      "RMSE: 28.73724021164483, \n",
      "R2: 0.9690999828292901\n"
     ]
    }
   ],
   "source": [
    "Voting = VotingRegressor(estimators=[('lr', LinearRegression()), ('rf', RandomForestRegressor())])\n",
    "Voting.fit(X_train, y_train)\n",
    "y_pred = Voting.predict(X_test)\n",
    "mae, mse, rmse, r2 = Evaluate_Model(y_test, y_pred)\n",
    "print(f\"AdaBoost - \\nMAE: {mae}, \\nMSE: {mse}, \\nRMSE: {rmse}, \\nR2: {r2}\")"
   ]
  },
  {
   "cell_type": "markdown",
   "metadata": {},
   "source": [
    "### PLOT Y_PRED AND Y_TEST"
   ]
  },
  {
   "cell_type": "code",
   "execution_count": 54,
   "metadata": {},
   "outputs": [
    {
     "data": {
      "text/plain": [
       "(615.2193499076767, -9.971894837591702)"
      ]
     },
     "execution_count": 54,
     "metadata": {},
     "output_type": "execute_result"
    }
   ],
   "source": [
    "y_pred.max(), y_pred.min()"
   ]
  },
  {
   "cell_type": "code",
   "execution_count": 55,
   "metadata": {},
   "outputs": [
    {
     "data": {
      "image/png": "[encoded data removed]",
      "text/plain": [
       "<Figure size 640x480 with 1 Axes>"
      ]
     },
     "metadata": {},
     "output_type": "display_data"
    }
   ],
   "source": [
    "plt.scatter(y_test, y_pred)\n",
    "plt.xlabel('Actual')\n",
    "plt.ylabel('Predicted')\n",
    "plt.show()"
   ]
  }
 ],
 "metadata": {
  "kernelspec": {
   "display_name": "Python 3",
   "language": "python",
   "name": "python3"
  },
  "language_info": {
   "codemirror_mode": {
    "name": "ipython",
    "version": 3
   },
   "file_extension": ".py",
   "mimetype": "text/x-python",
   "name": "python",
   "nbconvert_exporter": "python",
   "pygments_lexer": "ipython3",
   "version": "3.12.0"
  }
 },
 "nbformat": 4,
 "nbformat_minor": 2
}
